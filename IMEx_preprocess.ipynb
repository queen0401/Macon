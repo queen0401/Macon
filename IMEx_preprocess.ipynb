{
 "cells": [
  {
   "cell_type": "code",
   "execution_count": 2,
   "metadata": {},
   "outputs": [],
   "source": [
    "import pandas as pd\n",
    "import numpy as np\n",
    "import os\n",
    "from collections import Counter\n",
    "import re"
   ]
  },
  {
   "cell_type": "markdown",
   "metadata": {},
   "source": [
    "# preprocessing mutation.tsv"
   ]
  },
  {
   "cell_type": "code",
   "execution_count": 3,
   "metadata": {},
   "outputs": [
    {
     "name": "stdout",
     "output_type": "stream",
     "text": [
      "(77830, 15)\n"
     ]
    },
    {
     "data": {
      "text/html": [
       "<div>\n",
       "<style scoped>\n",
       "    .dataframe tbody tr th:only-of-type {\n",
       "        vertical-align: middle;\n",
       "    }\n",
       "\n",
       "    .dataframe tbody tr th {\n",
       "        vertical-align: top;\n",
       "    }\n",
       "\n",
       "    .dataframe thead th {\n",
       "        text-align: right;\n",
       "    }\n",
       "</style>\n",
       "<table border=\"1\" class=\"dataframe\">\n",
       "  <thead>\n",
       "    <tr style=\"text-align: right;\">\n",
       "      <th></th>\n",
       "      <th>#Feature AC</th>\n",
       "      <th>Feature short label</th>\n",
       "      <th>Feature range(s)</th>\n",
       "      <th>Original sequence</th>\n",
       "      <th>Resulting sequence</th>\n",
       "      <th>Feature type</th>\n",
       "      <th>Feature annotation</th>\n",
       "      <th>Affected protein AC</th>\n",
       "      <th>Affected protein symbol</th>\n",
       "      <th>Affected protein full name</th>\n",
       "      <th>Affected protein organism</th>\n",
       "      <th>Interaction participants</th>\n",
       "      <th>PubMedID</th>\n",
       "      <th>Figure legend</th>\n",
       "      <th>Interaction AC</th>\n",
       "    </tr>\n",
       "  </thead>\n",
       "  <tbody>\n",
       "    <tr>\n",
       "      <th>0</th>\n",
       "      <td>EBI-494382</td>\n",
       "      <td>P42573:p.Cys358Ala</td>\n",
       "      <td>358-358</td>\n",
       "      <td>C</td>\n",
       "      <td>A</td>\n",
       "      <td>mutation(MI:0118)</td>\n",
       "      <td></td>\n",
       "      <td>uniprotkb:P42573</td>\n",
       "      <td>ced-3</td>\n",
       "      <td></td>\n",
       "      <td>6239 - Caenorhabditis elegans</td>\n",
       "      <td>uniprotkb:P42573(protein(MI:0326), 6239 - Caen...</td>\n",
       "      <td>9651369</td>\n",
       "      <td></td>\n",
       "      <td>EBI-494380</td>\n",
       "    </tr>\n",
       "    <tr>\n",
       "      <th>1</th>\n",
       "      <td>EBI-516912</td>\n",
       "      <td>Q24306:p.Gly88Ser</td>\n",
       "      <td>88-88</td>\n",
       "      <td>G</td>\n",
       "      <td>S</td>\n",
       "      <td>mutation(MI:0118)</td>\n",
       "      <td></td>\n",
       "      <td>uniprotkb:Q24306</td>\n",
       "      <td>Diap1</td>\n",
       "      <td></td>\n",
       "      <td>7227 - Drosophila melanogaster (Fruit fly)</td>\n",
       "      <td>uniprotkb:Q24306(protein(MI:0326), 7227 - Dros...</td>\n",
       "      <td>10675328</td>\n",
       "      <td></td>\n",
       "      <td>EBI-516905</td>\n",
       "    </tr>\n",
       "    <tr>\n",
       "      <th>2</th>\n",
       "      <td>EBI-526200</td>\n",
       "      <td>Q99558:p.[Lys429Ala;Lys430Ala]</td>\n",
       "      <td>429-429</td>\n",
       "      <td>K</td>\n",
       "      <td>A</td>\n",
       "      <td>mutation(MI:0118)</td>\n",
       "      <td></td>\n",
       "      <td>uniprotkb:Q99558</td>\n",
       "      <td>MAP3K14</td>\n",
       "      <td></td>\n",
       "      <td>9606 - Homo sapiens</td>\n",
       "      <td>uniprotkb:Q99558(protein(MI:0326), 9606 - Homo...</td>\n",
       "      <td>10094049</td>\n",
       "      <td></td>\n",
       "      <td>EBI-526182</td>\n",
       "    </tr>\n",
       "    <tr>\n",
       "      <th>3</th>\n",
       "      <td>EBI-526200</td>\n",
       "      <td>Q99558:p.[Lys429Ala;Lys430Ala]</td>\n",
       "      <td>430-430</td>\n",
       "      <td>K</td>\n",
       "      <td>A</td>\n",
       "      <td>mutation(MI:0118)</td>\n",
       "      <td></td>\n",
       "      <td>uniprotkb:Q99558</td>\n",
       "      <td>MAP3K14</td>\n",
       "      <td></td>\n",
       "      <td>9606 - Homo sapiens</td>\n",
       "      <td>uniprotkb:Q99558(protein(MI:0326), 9606 - Homo...</td>\n",
       "      <td>10094049</td>\n",
       "      <td></td>\n",
       "      <td>EBI-526182</td>\n",
       "    </tr>\n",
       "    <tr>\n",
       "      <th>4</th>\n",
       "      <td>EBI-537514</td>\n",
       "      <td>P07591:p.Cys107Ser</td>\n",
       "      <td>107-107</td>\n",
       "      <td>C</td>\n",
       "      <td>S</td>\n",
       "      <td>mutation(MI:0118)</td>\n",
       "      <td></td>\n",
       "      <td>uniprotkb:P07591</td>\n",
       "      <td>trxm_spiol</td>\n",
       "      <td></td>\n",
       "      <td>3562 - Spinacia oleracea (Spinach)</td>\n",
       "      <td>uniprotkb:P07591(protein(MI:0326), 3562 - Spin...</td>\n",
       "      <td>11553771</td>\n",
       "      <td></td>\n",
       "      <td>EBI-537510</td>\n",
       "    </tr>\n",
       "  </tbody>\n",
       "</table>\n",
       "</div>"
      ],
      "text/plain": [
       "  #Feature AC             Feature short label Feature range(s)  \\\n",
       "0  EBI-494382              P42573:p.Cys358Ala          358-358   \n",
       "1  EBI-516912               Q24306:p.Gly88Ser            88-88   \n",
       "2  EBI-526200  Q99558:p.[Lys429Ala;Lys430Ala]          429-429   \n",
       "3  EBI-526200  Q99558:p.[Lys429Ala;Lys430Ala]          430-430   \n",
       "4  EBI-537514              P07591:p.Cys107Ser          107-107   \n",
       "\n",
       "  Original sequence Resulting sequence       Feature type Feature annotation  \\\n",
       "0                 C                  A  mutation(MI:0118)                      \n",
       "1                 G                  S  mutation(MI:0118)                      \n",
       "2                 K                  A  mutation(MI:0118)                      \n",
       "3                 K                  A  mutation(MI:0118)                      \n",
       "4                 C                  S  mutation(MI:0118)                      \n",
       "\n",
       "  Affected protein AC Affected protein symbol Affected protein full name  \\\n",
       "0    uniprotkb:P42573                   ced-3                              \n",
       "1    uniprotkb:Q24306                   Diap1                              \n",
       "2    uniprotkb:Q99558                 MAP3K14                              \n",
       "3    uniprotkb:Q99558                 MAP3K14                              \n",
       "4    uniprotkb:P07591              trxm_spiol                              \n",
       "\n",
       "                    Affected protein organism  \\\n",
       "0               6239 - Caenorhabditis elegans   \n",
       "1  7227 - Drosophila melanogaster (Fruit fly)   \n",
       "2                         9606 - Homo sapiens   \n",
       "3                         9606 - Homo sapiens   \n",
       "4          3562 - Spinacia oleracea (Spinach)   \n",
       "\n",
       "                            Interaction participants  PubMedID Figure legend  \\\n",
       "0  uniprotkb:P42573(protein(MI:0326), 6239 - Caen...   9651369                 \n",
       "1  uniprotkb:Q24306(protein(MI:0326), 7227 - Dros...  10675328                 \n",
       "2  uniprotkb:Q99558(protein(MI:0326), 9606 - Homo...  10094049                 \n",
       "3  uniprotkb:Q99558(protein(MI:0326), 9606 - Homo...  10094049                 \n",
       "4  uniprotkb:P07591(protein(MI:0326), 3562 - Spin...  11553771                 \n",
       "\n",
       "  Interaction AC  \n",
       "0     EBI-494380  \n",
       "1     EBI-516905  \n",
       "2     EBI-526182  \n",
       "3     EBI-526182  \n",
       "4     EBI-537510  "
      ]
     },
     "execution_count": 3,
     "metadata": {},
     "output_type": "execute_result"
    }
   ],
   "source": [
    "fileName = r'data/raw/mutations.tsv'\n",
    "df = pd.read_csv(fileName, sep='\\t', keep_default_na=False, lineterminator=\"\\n\")\n",
    "print(df.shape)\n",
    "df.head()"
   ]
  },
  {
   "cell_type": "code",
   "execution_count": 4,
   "metadata": {},
   "outputs": [
    {
     "data": {
      "text/plain": [
       "(66802, 15)"
      ]
     },
     "execution_count": 4,
     "metadata": {},
     "output_type": "execute_result"
    }
   ],
   "source": [
    "# drop high-throught\n",
    "df = df[~(df['Feature annotation'].str.contains('high-throughput'))]\n",
    "df.shape"
   ]
  },
  {
   "cell_type": "markdown",
   "metadata": {},
   "source": [
    "## drop entries with >2 participants, and drop entries that the number of partner don't match the number of uniprotAC. (to filter binary protein-protein interaction)"
   ]
  },
  {
   "cell_type": "code",
   "execution_count": 5,
   "metadata": {},
   "outputs": [
    {
     "name": "stdout",
     "output_type": "stream",
     "text": [
      "after delete items with more than 2 partners (61232, 17)\n",
      "after delete items with not identical number of partners and n_partner (57954, 17)\n"
     ]
    }
   ],
   "source": [
    "import re\n",
    "p = re.compile(r'uniprotkb:(.*?)[(]', re.S)\n",
    "partner = []\n",
    "n_partner = []\n",
    "count = 0\n",
    "for i in df['Interaction participants']:\n",
    "    tmp = re.findall(p, i)\n",
    "#     num = re.findall(p2, i)\n",
    "    num = i.count('|') + 1\n",
    "    partner.append(tmp)\n",
    "    n_partner.append(num)\n",
    "df['partners'] = partner\n",
    "df['n_partner'] = n_partner\n",
    "\n",
    "df = df[df['n_partner'] < 3]\n",
    "print('after delete items with more than 2 partners {}'.format(df.shape))\n",
    "df = df[df['partners'].apply(lambda x: len(x)) == df['n_partner']]\n",
    "print('after delete items with not identical number of partners and n_partner {}'.format(df.shape))"
   ]
  },
  {
   "cell_type": "markdown",
   "metadata": {},
   "source": [
    "## drop entries with same interactionAC but different affected protein AC (drop same interaction with multiple mutations)"
   ]
  },
  {
   "cell_type": "code",
   "execution_count": 6,
   "metadata": {},
   "outputs": [
    {
     "name": "stdout",
     "output_type": "stream",
     "text": [
      "(57185, 17)\n"
     ]
    }
   ],
   "source": [
    "df1 = df[df.duplicated(['Affected protein AC', 'Interaction AC'], keep=False)] # choose items with same interactAC-aff pro AC pair\n",
    "df2 = df.drop_duplicates(['Interaction AC'], keep=False) # choose items with only one time interactionAC\n",
    "df = pd.concat([df1, df2])\n",
    "print(df.shape)"
   ]
  },
  {
   "cell_type": "markdown",
   "metadata": {},
   "source": [
    "## drop entries without uniprotAC"
   ]
  },
  {
   "cell_type": "code",
   "execution_count": 7,
   "metadata": {},
   "outputs": [
    {
     "name": "stdout",
     "output_type": "stream",
     "text": [
      "(57169, 17)\n"
     ]
    }
   ],
   "source": [
    "df = df[df['Affected protein AC'].str.contains('uniprotkb:', na=False)]\n",
    "print(df.shape)"
   ]
  },
  {
   "cell_type": "markdown",
   "metadata": {},
   "source": [
    "## simplify uniprotkb label"
   ]
  },
  {
   "cell_type": "code",
   "execution_count": 8,
   "metadata": {
    "scrolled": true
   },
   "outputs": [
    {
     "data": {
      "text/html": [
       "<div>\n",
       "<style scoped>\n",
       "    .dataframe tbody tr th:only-of-type {\n",
       "        vertical-align: middle;\n",
       "    }\n",
       "\n",
       "    .dataframe tbody tr th {\n",
       "        vertical-align: top;\n",
       "    }\n",
       "\n",
       "    .dataframe thead th {\n",
       "        text-align: right;\n",
       "    }\n",
       "</style>\n",
       "<table border=\"1\" class=\"dataframe\">\n",
       "  <thead>\n",
       "    <tr style=\"text-align: right;\">\n",
       "      <th></th>\n",
       "      <th>#Feature AC</th>\n",
       "      <th>Feature short label</th>\n",
       "      <th>Feature range(s)</th>\n",
       "      <th>Original sequence</th>\n",
       "      <th>Resulting sequence</th>\n",
       "      <th>Feature type</th>\n",
       "      <th>Feature annotation</th>\n",
       "      <th>Affected protein AC</th>\n",
       "      <th>Affected protein symbol</th>\n",
       "      <th>Affected protein full name</th>\n",
       "      <th>Affected protein organism</th>\n",
       "      <th>Interaction participants</th>\n",
       "      <th>PubMedID</th>\n",
       "      <th>Figure legend</th>\n",
       "      <th>Interaction AC</th>\n",
       "      <th>partners</th>\n",
       "      <th>n_partner</th>\n",
       "    </tr>\n",
       "  </thead>\n",
       "  <tbody>\n",
       "    <tr>\n",
       "      <th>2</th>\n",
       "      <td>EBI-526200</td>\n",
       "      <td>Q99558:p.[Lys429Ala;Lys430Ala]</td>\n",
       "      <td>429-429</td>\n",
       "      <td>K</td>\n",
       "      <td>A</td>\n",
       "      <td>mutation(MI:0118)</td>\n",
       "      <td></td>\n",
       "      <td>Q99558</td>\n",
       "      <td>MAP3K14</td>\n",
       "      <td></td>\n",
       "      <td>9606 - Homo sapiens</td>\n",
       "      <td>uniprotkb:Q99558(protein(MI:0326), 9606 - Homo...</td>\n",
       "      <td>10094049</td>\n",
       "      <td></td>\n",
       "      <td>EBI-526182</td>\n",
       "      <td>[Q99558, O43318-3]</td>\n",
       "      <td>2</td>\n",
       "    </tr>\n",
       "    <tr>\n",
       "      <th>3</th>\n",
       "      <td>EBI-526200</td>\n",
       "      <td>Q99558:p.[Lys429Ala;Lys430Ala]</td>\n",
       "      <td>430-430</td>\n",
       "      <td>K</td>\n",
       "      <td>A</td>\n",
       "      <td>mutation(MI:0118)</td>\n",
       "      <td></td>\n",
       "      <td>Q99558</td>\n",
       "      <td>MAP3K14</td>\n",
       "      <td></td>\n",
       "      <td>9606 - Homo sapiens</td>\n",
       "      <td>uniprotkb:Q99558(protein(MI:0326), 9606 - Homo...</td>\n",
       "      <td>10094049</td>\n",
       "      <td></td>\n",
       "      <td>EBI-526182</td>\n",
       "      <td>[Q99558, O43318-3]</td>\n",
       "      <td>2</td>\n",
       "    </tr>\n",
       "    <tr>\n",
       "      <th>8</th>\n",
       "      <td>EBI-990886</td>\n",
       "      <td>P00441:p.Gly94Ala</td>\n",
       "      <td>94-94</td>\n",
       "      <td>G</td>\n",
       "      <td>A</td>\n",
       "      <td>mutation(MI:0118)</td>\n",
       "      <td></td>\n",
       "      <td>P00441</td>\n",
       "      <td>SOD1</td>\n",
       "      <td></td>\n",
       "      <td>9606 - Homo sapiens</td>\n",
       "      <td>uniprotkb:P16014(protein(MI:0326), 10090 - Mus...</td>\n",
       "      <td>16369483</td>\n",
       "      <td>Figure 1a</td>\n",
       "      <td>EBI-990883</td>\n",
       "      <td>[P16014, P00441]</td>\n",
       "      <td>2</td>\n",
       "    </tr>\n",
       "    <tr>\n",
       "      <th>9</th>\n",
       "      <td>EBI-990898</td>\n",
       "      <td>P00441:p.Ala5Val</td>\n",
       "      <td>5-5</td>\n",
       "      <td>A</td>\n",
       "      <td>V</td>\n",
       "      <td>mutation(MI:0118)</td>\n",
       "      <td></td>\n",
       "      <td>P00441</td>\n",
       "      <td>SOD1</td>\n",
       "      <td></td>\n",
       "      <td>9606 - Homo sapiens</td>\n",
       "      <td>uniprotkb:P16014(protein(MI:0326), 10090 - Mus...</td>\n",
       "      <td>16369483</td>\n",
       "      <td>Figure 1a</td>\n",
       "      <td>EBI-990883</td>\n",
       "      <td>[P16014, P00441]</td>\n",
       "      <td>2</td>\n",
       "    </tr>\n",
       "    <tr>\n",
       "      <th>10</th>\n",
       "      <td>EBI-984604</td>\n",
       "      <td>P20536:p.Asp68Asn</td>\n",
       "      <td>68-68</td>\n",
       "      <td>D</td>\n",
       "      <td>N</td>\n",
       "      <td>mutation(MI:0118)</td>\n",
       "      <td></td>\n",
       "      <td>P20536</td>\n",
       "      <td>OPG116</td>\n",
       "      <td></td>\n",
       "      <td>10249 - Vaccinia virus (strain Copenhagen) (VACV)</td>\n",
       "      <td>uniprotkb:P20536(protein(MI:0326), 10249 - Vac...</td>\n",
       "      <td>16326701</td>\n",
       "      <td>Figure 3</td>\n",
       "      <td>EBI-984592</td>\n",
       "      <td>[P20536, P20995]</td>\n",
       "      <td>2</td>\n",
       "    </tr>\n",
       "  </tbody>\n",
       "</table>\n",
       "</div>"
      ],
      "text/plain": [
       "   #Feature AC             Feature short label Feature range(s)  \\\n",
       "2   EBI-526200  Q99558:p.[Lys429Ala;Lys430Ala]          429-429   \n",
       "3   EBI-526200  Q99558:p.[Lys429Ala;Lys430Ala]          430-430   \n",
       "8   EBI-990886               P00441:p.Gly94Ala            94-94   \n",
       "9   EBI-990898                P00441:p.Ala5Val              5-5   \n",
       "10  EBI-984604               P20536:p.Asp68Asn            68-68   \n",
       "\n",
       "   Original sequence Resulting sequence       Feature type Feature annotation  \\\n",
       "2                  K                  A  mutation(MI:0118)                      \n",
       "3                  K                  A  mutation(MI:0118)                      \n",
       "8                  G                  A  mutation(MI:0118)                      \n",
       "9                  A                  V  mutation(MI:0118)                      \n",
       "10                 D                  N  mutation(MI:0118)                      \n",
       "\n",
       "   Affected protein AC Affected protein symbol Affected protein full name  \\\n",
       "2               Q99558                 MAP3K14                              \n",
       "3               Q99558                 MAP3K14                              \n",
       "8               P00441                    SOD1                              \n",
       "9               P00441                    SOD1                              \n",
       "10              P20536                  OPG116                              \n",
       "\n",
       "                            Affected protein organism  \\\n",
       "2                                 9606 - Homo sapiens   \n",
       "3                                 9606 - Homo sapiens   \n",
       "8                                 9606 - Homo sapiens   \n",
       "9                                 9606 - Homo sapiens   \n",
       "10  10249 - Vaccinia virus (strain Copenhagen) (VACV)   \n",
       "\n",
       "                             Interaction participants  PubMedID Figure legend  \\\n",
       "2   uniprotkb:Q99558(protein(MI:0326), 9606 - Homo...  10094049                 \n",
       "3   uniprotkb:Q99558(protein(MI:0326), 9606 - Homo...  10094049                 \n",
       "8   uniprotkb:P16014(protein(MI:0326), 10090 - Mus...  16369483     Figure 1a   \n",
       "9   uniprotkb:P16014(protein(MI:0326), 10090 - Mus...  16369483     Figure 1a   \n",
       "10  uniprotkb:P20536(protein(MI:0326), 10249 - Vac...  16326701      Figure 3   \n",
       "\n",
       "   Interaction AC            partners  n_partner  \n",
       "2      EBI-526182  [Q99558, O43318-3]          2  \n",
       "3      EBI-526182  [Q99558, O43318-3]          2  \n",
       "8      EBI-990883    [P16014, P00441]          2  \n",
       "9      EBI-990883    [P16014, P00441]          2  \n",
       "10     EBI-984592    [P20536, P20995]          2  "
      ]
     },
     "execution_count": 8,
     "metadata": {},
     "output_type": "execute_result"
    }
   ],
   "source": [
    "df['Affected protein AC'] = df['Affected protein AC'].str.replace('uniprotkb:', '')\n",
    "df.head()"
   ]
  },
  {
   "cell_type": "markdown",
   "metadata": {},
   "source": [
    "## delete 'mutation' feature type"
   ]
  },
  {
   "cell_type": "code",
   "execution_count": 9,
   "metadata": {},
   "outputs": [
    {
     "name": "stdout",
     "output_type": "stream",
     "text": [
      "(52194, 17)\n"
     ]
    }
   ],
   "source": [
    "df = df[~df['Feature type'].isin(['mutation(MI:0118)'])]\n",
    "print(df.shape)"
   ]
  },
  {
   "cell_type": "markdown",
   "metadata": {},
   "source": [
    "## delete non- regular acid items with same featureAC"
   ]
  },
  {
   "cell_type": "code",
   "execution_count": 10,
   "metadata": {},
   "outputs": [
    {
     "name": "stdout",
     "output_type": "stream",
     "text": [
      "(52193, 17)\n",
      "['EBI-8291032']\n"
     ]
    }
   ],
   "source": [
    "f_ = df[df['Resulting sequence'].str.contains('B|J|O|Z', na=False)]['#Feature AC'].tolist()\n",
    "df = df[~df['#Feature AC'].isin(f_)]\n",
    "print(df.shape)\n",
    "print(f_)"
   ]
  },
  {
   "cell_type": "markdown",
   "metadata": {},
   "source": [
    "## delete 'PRO_' uniprotAC in table"
   ]
  },
  {
   "cell_type": "code",
   "execution_count": 11,
   "metadata": {},
   "outputs": [
    {
     "data": {
      "text/plain": [
       "(51536, 17)"
      ]
     },
     "execution_count": 11,
     "metadata": {},
     "output_type": "execute_result"
    }
   ],
   "source": [
    "df = df[~df['Affected protein AC'].str.contains('PRO_')]\n",
    "df.shape"
   ]
  },
  {
   "cell_type": "markdown",
   "metadata": {},
   "source": [
    "## get all sequence from uniprot (prepare for uniprot fasta retrieve https://www.uniprot.org/uploadlists/)"
   ]
  },
  {
   "cell_type": "code",
   "execution_count": 12,
   "metadata": {},
   "outputs": [],
   "source": [
    "def flatlist(acList):\n",
    "    return [item for sublist in acList for item in sublist]\n",
    "\n",
    "ac1 = set(flatlist(df['partners'].values.tolist()))\n",
    "ac2 = set(df['Affected protein AC'].values.tolist())\n",
    "acAll = ac1 | ac2\n",
    "with open('acAll.txt', 'w') as f:\n",
    "    for x in acAll:\n",
    "        f.write(x + '\\n')\n"
   ]
  },
  {
   "cell_type": "code",
   "execution_count": 13,
   "metadata": {},
   "outputs": [
    {
     "data": {
      "text/plain": [
       "9358"
      ]
     },
     "execution_count": 13,
     "metadata": {},
     "output_type": "execute_result"
    }
   ],
   "source": [
    "p = re.compile('PRO_')\n",
    "acAll = [x for x in acAll if not p.findall(x)]\n",
    "len(acAll)"
   ]
  },
  {
   "cell_type": "code",
   "execution_count": 14,
   "metadata": {},
   "outputs": [],
   "source": [
    "ac = []\n",
    "info = []\n",
    "seq = []\n",
    "seqline = ''\n",
    "initFlag = True\n",
    "fastaFile = 'data/raw/idmapping_2024_02_03.fasta' # from uniprot website mapping, download with canonical and isoform\n",
    "with open(fastaFile, 'r') as f:\n",
    "    for line in f:\n",
    "        line = line.strip()\n",
    "        if '>' in line:\n",
    "            res = re.findall(r'\\|([^\"]+)\\|', line)[0]\n",
    "            ac.append(res)\n",
    "            info.append(line)\n",
    "            if initFlag:\n",
    "                initFlag = False\n",
    "            else:\n",
    "                seq.append(seqline)\n",
    "                seqline = ''\n",
    "        else:\n",
    "            seqline += line\n",
    "    seq.append(seqline)\n",
    "fastaTable = pd.DataFrame({'ac': ac, 'info': info, 'seq': seq})"
   ]
  },
  {
   "cell_type": "markdown",
   "metadata": {},
   "source": [
    "## select valid uniprotAC to make following selection"
   ]
  },
  {
   "cell_type": "code",
   "execution_count": 15,
   "metadata": {},
   "outputs": [
    {
     "name": "stdout",
     "output_type": "stream",
     "text": [
      "(8916, 3)\n",
      "(416, 3)\n",
      "(9332, 3)\n"
     ]
    }
   ],
   "source": [
    "validAC1 = fastaTable[fastaTable['ac'].isin(acAll)]\n",
    "\n",
    "validAC2 = fastaTable[~fastaTable['ac'].isin(acAll)]\n",
    "acAll_series = pd.Series(list(acAll))\n",
    "validAC2 = validAC2[validAC2['ac'].isin(acAll_series.str.split('-', expand=True)[0])]\n",
    "validAC = pd.concat([validAC1, validAC2])\n",
    "print(validAC1.shape)\n",
    "print(validAC2.shape)\n",
    "print(validAC.shape)"
   ]
  },
  {
   "cell_type": "markdown",
   "metadata": {},
   "source": [
    "## make the 'affected protein AC' - 'uniprotAC' dict. Some have 'multiple key' -> 'single value' relationship eg: apac['P19838-1'] = 'P19838', apac['P19838'] = 'P19838'"
   ]
  },
  {
   "cell_type": "code",
   "execution_count": 16,
   "metadata": {},
   "outputs": [],
   "source": [
    "apacKey = []\n",
    "acValue = []\n",
    "for ac in acAll:\n",
    "    if ac in validAC['ac'].values:\n",
    "        apacKey.append(ac)\n",
    "        acValue.append(ac)\n",
    "    elif ac.split('-')[0] in validAC['ac'].values:\n",
    "        apacKey.append(ac)\n",
    "        acValue.append(ac.split('-')[0])\n",
    "apac2ac = dict(zip(apacKey, acValue))\n"
   ]
  },
  {
   "cell_type": "markdown",
   "metadata": {},
   "source": [
    "### transform all isoform AC in table into real uniprotAC(canonical with no isoform '-'), eg: O43889-2 ->O43889, O43889-3 -> O43889-3"
   ]
  },
  {
   "cell_type": "code",
   "execution_count": 17,
   "metadata": {},
   "outputs": [],
   "source": [
    "df = df[df['Affected protein AC'].isin(apac2ac.keys())]"
   ]
  },
  {
   "cell_type": "code",
   "execution_count": 18,
   "metadata": {},
   "outputs": [],
   "source": [
    "df = df[df['partners'].apply(lambda x: set(x) < set(list(apac2ac.keys())))]"
   ]
  },
  {
   "cell_type": "markdown",
   "metadata": {},
   "source": [
    "## make interaction with multi position mutations into one "
   ]
  },
  {
   "cell_type": "code",
   "execution_count": 19,
   "metadata": {},
   "outputs": [
    {
     "name": "stderr",
     "output_type": "stream",
     "text": [
      "/home/liwh/.conda/envs/dnabert/lib/python3.6/site-packages/ipykernel_launcher.py:10: FutureWarning: Indexing with multiple keys (implicitly converted to a tuple of keys) will be deprecated, use a list instead.\n",
      "  # Remove the CWD from sys.path while we load stuff.\n"
     ]
    },
    {
     "data": {
      "text/plain": [
       "(44412, 17)"
      ]
     },
     "execution_count": 19,
     "metadata": {},
     "output_type": "execute_result"
    }
   ],
   "source": [
    "# pos = df['Feature range(s)'].str.split('-', expand=True)\n",
    "# df['start'] = pos[0]\n",
    "# df['end'] = pos[1]\n",
    "\n",
    "comCol = df.columns.tolist()\n",
    "comCol.remove('Feature range(s)')\n",
    "comCol.remove('Original sequence')\n",
    "comCol.remove('Resulting sequence')\n",
    "\n",
    "df_1 = df.groupby('#Feature AC')['Feature range(s)','Original sequence', 'Resulting sequence'].agg(list)\n",
    "df_2 = df[comCol].drop_duplicates('#Feature AC', keep='first')\n",
    "df = pd.merge(df_1, df_2, on = '#Feature AC')\n",
    "df.reset_index(drop=True, inplace=True)\n",
    "df.shape"
   ]
  },
  {
   "cell_type": "code",
   "execution_count": 20,
   "metadata": {},
   "outputs": [
    {
     "data": {
      "text/html": [
       "<div>\n",
       "<style scoped>\n",
       "    .dataframe tbody tr th:only-of-type {\n",
       "        vertical-align: middle;\n",
       "    }\n",
       "\n",
       "    .dataframe tbody tr th {\n",
       "        vertical-align: top;\n",
       "    }\n",
       "\n",
       "    .dataframe thead th {\n",
       "        text-align: right;\n",
       "    }\n",
       "</style>\n",
       "<table border=\"1\" class=\"dataframe\">\n",
       "  <thead>\n",
       "    <tr style=\"text-align: right;\">\n",
       "      <th></th>\n",
       "      <th>#Feature AC</th>\n",
       "      <th>Feature range(s)</th>\n",
       "      <th>Original sequence</th>\n",
       "      <th>Resulting sequence</th>\n",
       "      <th>Feature short label</th>\n",
       "      <th>Feature type</th>\n",
       "      <th>Feature annotation</th>\n",
       "      <th>Affected protein AC</th>\n",
       "      <th>Affected protein symbol</th>\n",
       "      <th>Affected protein full name</th>\n",
       "      <th>Affected protein organism</th>\n",
       "      <th>Interaction participants</th>\n",
       "      <th>PubMedID</th>\n",
       "      <th>Figure legend</th>\n",
       "      <th>Interaction AC</th>\n",
       "      <th>partners</th>\n",
       "      <th>n_partner</th>\n",
       "    </tr>\n",
       "  </thead>\n",
       "  <tbody>\n",
       "    <tr>\n",
       "      <th>0</th>\n",
       "      <td>EBI-1002144</td>\n",
       "      <td>[90-90, 95-95]</td>\n",
       "      <td>[L, D]</td>\n",
       "      <td>[A, A]</td>\n",
       "      <td>P55957:p.[Leu90Ala;Asp95Ala]</td>\n",
       "      <td>mutation disrupting(MI:0573)</td>\n",
       "      <td></td>\n",
       "      <td>P55957</td>\n",
       "      <td>BID</td>\n",
       "      <td></td>\n",
       "      <td>9606 - Homo sapiens</td>\n",
       "      <td>uniprotkb:P55957(protein(MI:0326), 9606 - Homo...</td>\n",
       "      <td>16697956</td>\n",
       "      <td>1 B</td>\n",
       "      <td>EBI-1002129</td>\n",
       "      <td>[P55957, P10415]</td>\n",
       "      <td>2</td>\n",
       "    </tr>\n",
       "    <tr>\n",
       "      <th>1</th>\n",
       "      <td>EBI-1002635</td>\n",
       "      <td>[90-90, 95-95]</td>\n",
       "      <td>[L, D]</td>\n",
       "      <td>[A, A]</td>\n",
       "      <td>P55957:p.[Leu90Ala;Asp95Ala]</td>\n",
       "      <td>mutation disrupting(MI:0573)</td>\n",
       "      <td></td>\n",
       "      <td>P55957</td>\n",
       "      <td>BID</td>\n",
       "      <td></td>\n",
       "      <td>9606 - Homo sapiens</td>\n",
       "      <td>uniprotkb:Q92843(protein(MI:0326), 9606 - Homo...</td>\n",
       "      <td>16697956</td>\n",
       "      <td>1 B</td>\n",
       "      <td>EBI-1002627</td>\n",
       "      <td>[Q92843, P55957]</td>\n",
       "      <td>2</td>\n",
       "    </tr>\n",
       "    <tr>\n",
       "      <th>2</th>\n",
       "      <td>EBI-1003351</td>\n",
       "      <td>[90-90, 95-95]</td>\n",
       "      <td>[L, D]</td>\n",
       "      <td>[A, A]</td>\n",
       "      <td>P55957:p.[Leu90Ala;Asp95Ala]</td>\n",
       "      <td>mutation disrupting(MI:0573)</td>\n",
       "      <td></td>\n",
       "      <td>P55957</td>\n",
       "      <td>BID</td>\n",
       "      <td></td>\n",
       "      <td>9606 - Homo sapiens</td>\n",
       "      <td>uniprotkb:Q07817(protein(MI:0326), 9606 - Homo...</td>\n",
       "      <td>16697956</td>\n",
       "      <td>1 B</td>\n",
       "      <td>EBI-1003344</td>\n",
       "      <td>[Q07817, P55957]</td>\n",
       "      <td>2</td>\n",
       "    </tr>\n",
       "    <tr>\n",
       "      <th>3</th>\n",
       "      <td>EBI-1003469</td>\n",
       "      <td>[90-90, 95-95]</td>\n",
       "      <td>[L, D]</td>\n",
       "      <td>[A, A]</td>\n",
       "      <td>P55957:p.[Leu90Ala;Asp95Ala]</td>\n",
       "      <td>mutation disrupting(MI:0573)</td>\n",
       "      <td></td>\n",
       "      <td>P55957</td>\n",
       "      <td>BID</td>\n",
       "      <td></td>\n",
       "      <td>9606 - Homo sapiens</td>\n",
       "      <td>uniprotkb:Q07820(protein(MI:0326), 9606 - Homo...</td>\n",
       "      <td>16697956</td>\n",
       "      <td>1 B</td>\n",
       "      <td>EBI-1003461</td>\n",
       "      <td>[Q07820, P55957]</td>\n",
       "      <td>2</td>\n",
       "    </tr>\n",
       "    <tr>\n",
       "      <th>4</th>\n",
       "      <td>EBI-1003574</td>\n",
       "      <td>[90-90, 95-95]</td>\n",
       "      <td>[L, D]</td>\n",
       "      <td>[A, A]</td>\n",
       "      <td>P55957:p.[Leu90Ala;Asp95Ala]</td>\n",
       "      <td>mutation disrupting(MI:0573)</td>\n",
       "      <td></td>\n",
       "      <td>P55957</td>\n",
       "      <td>BID</td>\n",
       "      <td></td>\n",
       "      <td>9606 - Homo sapiens</td>\n",
       "      <td>uniprotkb:P55957(protein(MI:0326), 9606 - Homo...</td>\n",
       "      <td>16697956</td>\n",
       "      <td>1 B</td>\n",
       "      <td>EBI-1003566</td>\n",
       "      <td>[P55957, Q16548]</td>\n",
       "      <td>2</td>\n",
       "    </tr>\n",
       "  </tbody>\n",
       "</table>\n",
       "</div>"
      ],
      "text/plain": [
       "   #Feature AC Feature range(s) Original sequence Resulting sequence  \\\n",
       "0  EBI-1002144   [90-90, 95-95]            [L, D]             [A, A]   \n",
       "1  EBI-1002635   [90-90, 95-95]            [L, D]             [A, A]   \n",
       "2  EBI-1003351   [90-90, 95-95]            [L, D]             [A, A]   \n",
       "3  EBI-1003469   [90-90, 95-95]            [L, D]             [A, A]   \n",
       "4  EBI-1003574   [90-90, 95-95]            [L, D]             [A, A]   \n",
       "\n",
       "            Feature short label                  Feature type  \\\n",
       "0  P55957:p.[Leu90Ala;Asp95Ala]  mutation disrupting(MI:0573)   \n",
       "1  P55957:p.[Leu90Ala;Asp95Ala]  mutation disrupting(MI:0573)   \n",
       "2  P55957:p.[Leu90Ala;Asp95Ala]  mutation disrupting(MI:0573)   \n",
       "3  P55957:p.[Leu90Ala;Asp95Ala]  mutation disrupting(MI:0573)   \n",
       "4  P55957:p.[Leu90Ala;Asp95Ala]  mutation disrupting(MI:0573)   \n",
       "\n",
       "  Feature annotation Affected protein AC Affected protein symbol  \\\n",
       "0                                 P55957                     BID   \n",
       "1                                 P55957                     BID   \n",
       "2                                 P55957                     BID   \n",
       "3                                 P55957                     BID   \n",
       "4                                 P55957                     BID   \n",
       "\n",
       "  Affected protein full name Affected protein organism  \\\n",
       "0                                  9606 - Homo sapiens   \n",
       "1                                  9606 - Homo sapiens   \n",
       "2                                  9606 - Homo sapiens   \n",
       "3                                  9606 - Homo sapiens   \n",
       "4                                  9606 - Homo sapiens   \n",
       "\n",
       "                            Interaction participants  PubMedID Figure legend  \\\n",
       "0  uniprotkb:P55957(protein(MI:0326), 9606 - Homo...  16697956           1 B   \n",
       "1  uniprotkb:Q92843(protein(MI:0326), 9606 - Homo...  16697956           1 B   \n",
       "2  uniprotkb:Q07817(protein(MI:0326), 9606 - Homo...  16697956           1 B   \n",
       "3  uniprotkb:Q07820(protein(MI:0326), 9606 - Homo...  16697956           1 B   \n",
       "4  uniprotkb:P55957(protein(MI:0326), 9606 - Homo...  16697956           1 B   \n",
       "\n",
       "  Interaction AC          partners  n_partner  \n",
       "0    EBI-1002129  [P55957, P10415]          2  \n",
       "1    EBI-1002627  [Q92843, P55957]          2  \n",
       "2    EBI-1003344  [Q07817, P55957]          2  \n",
       "3    EBI-1003461  [Q07820, P55957]          2  \n",
       "4    EBI-1003566  [P55957, Q16548]          2  "
      ]
     },
     "execution_count": 20,
     "metadata": {},
     "output_type": "execute_result"
    }
   ],
   "source": [
    "df.head()"
   ]
  },
  {
   "cell_type": "markdown",
   "metadata": {},
   "source": [
    "## make mutprotein seq and participants seq"
   ]
  },
  {
   "cell_type": "code",
   "execution_count": 21,
   "metadata": {},
   "outputs": [],
   "source": [
    "validAC_index = validAC.copy()\n",
    "validAC_index = validAC_index.set_index('ac')"
   ]
  },
  {
   "cell_type": "code",
   "execution_count": 22,
   "metadata": {},
   "outputs": [],
   "source": [
    "mutAC = [apac2ac[x] for x in df['Affected protein AC']]\n",
    "mut0 = []\n",
    "for i in mutAC:\n",
    "    mut0.append(validAC_index.loc[i, 'seq'])"
   ]
  },
  {
   "cell_type": "code",
   "execution_count": 23,
   "metadata": {},
   "outputs": [
    {
     "name": "stdout",
     "output_type": "stream",
     "text": [
      "44412\n",
      "(44412, 17)\n"
     ]
    }
   ],
   "source": [
    "par = []\n",
    "parAC = []\n",
    "\n",
    "for i in df.index:\n",
    "    sameFlag = False\n",
    "    if len(df.loc[i, 'partners']) > 1:\n",
    "        for j in df.loc[i, 'partners']:\n",
    "            if j != df.loc[i, 'Affected protein AC']:\n",
    "                par.append(validAC_index.loc[apac2ac[j], 'seq'])\n",
    "                parAC.append(apac2ac[j])\n",
    "            elif sameFlag:\n",
    "                par.append(validAC_index.loc[apac2ac[j], 'seq'])\n",
    "                parAC.append(apac2ac[j])\n",
    "            else:\n",
    "                sameFlag = True\n",
    "    elif len(df.loc[i, 'partners']) == 1:\n",
    "        par.append(validAC_index.loc[apac2ac[df.loc[i, 'partners'][0]], 'seq'])\n",
    "        parAC.append(apac2ac[df.loc[i, 'partners'][0]])\n",
    "print(len(par))\n",
    "print(df.shape)"
   ]
  },
  {
   "cell_type": "code",
   "execution_count": 24,
   "metadata": {},
   "outputs": [],
   "source": [
    "df['mutAC'] = mutAC\n",
    "df['mut0'] = mut0\n",
    "df['parAC'] = parAC\n",
    "df['par0'] = par"
   ]
  },
  {
   "cell_type": "code",
   "execution_count": 25,
   "metadata": {},
   "outputs": [
    {
     "name": "stdout",
     "output_type": "stream",
     "text": [
      "P12104\n",
      "P12104\n",
      "Q9HCJ0\n",
      "Q9HCJ0\n",
      "Q9HCJ0\n",
      "Q9HCJ0\n",
      "Q9HCJ0\n",
      "Q9HCJ0\n",
      "Q9HCJ0\n",
      "Q9HCJ0\n",
      "Q6NSX1\n",
      "Q6NSX1\n",
      "Q9HCJ0\n",
      "Q9HCJ0\n",
      "Q9HCJ0\n",
      "Q9HCJ0\n",
      "Q9HCJ0\n",
      "Q9HCJ0\n",
      "Q9HCJ0\n",
      "Q9HCJ0\n",
      "Q9HCJ0\n",
      "Q9HCJ0\n",
      "Q9HCJ0\n",
      "Q9HCJ0\n",
      "Q9HCJ0\n",
      "Q9NYZ3\n",
      "Q9HCJ0\n",
      "Q9HCJ0\n",
      "44412\n"
     ]
    }
   ],
   "source": [
    "mut1 = []\n",
    "for i in df.index:\n",
    "    tmp = df.loc[i, 'mut0']\n",
    "    for j in range(len(df.loc[i, 'Feature range(s)'])):\n",
    "        pos0 = int(df.loc[i, 'Feature range(s)'][j].split('-')[0])\n",
    "        pos1 = int(df.loc[i, 'Feature range(s)'][j].split('-')[1])\n",
    "        ori = df.loc[i, 'Original sequence'][j]\n",
    "        mut = df.loc[i, 'Resulting sequence'][j]\n",
    "#         try:\n",
    "#             if len(ori) != len(mut):\n",
    "#                 print('match length error!' + df.loc[i, '#Feature AC'])\n",
    "#                 break\n",
    "#         except:\n",
    "#             print(df.loc[i, '#Feature AC'] )\n",
    "        if tmp[(pos0 - 1): pos1] != ori:\n",
    "            print(df.loc[i, 'Affected protein AC'])\n",
    "#             mut1.append('error_match')\n",
    "            continue\n",
    "        else:\n",
    "            tmp = tmp[:(pos0 - 1)] + mut + tmp[pos1:]\n",
    "    tmp = tmp.replace('.', '')\n",
    "    mut1.append(tmp)\n",
    "print(len(mut1))"
   ]
  },
  {
   "cell_type": "code",
   "execution_count": 26,
   "metadata": {},
   "outputs": [],
   "source": [
    "df['mut1'] = mut1"
   ]
  },
  {
   "cell_type": "code",
   "execution_count": 27,
   "metadata": {
    "scrolled": true
   },
   "outputs": [],
   "source": [
    "df['label'] = 2\n",
    "df.loc[df['Feature type'].str.contains('disrupting'), 'label'] = 0\n",
    "df.loc[df['Feature type'].str.contains('decreasing'), 'label'] = 1\n",
    "df.loc[df['Feature type'].str.contains('increasing'), 'label'] = 3\n",
    "df.loc[df['Feature type'].str.contains('causing'), 'label'] = 4"
   ]
  },
  {
   "cell_type": "code",
   "execution_count": 28,
   "metadata": {},
   "outputs": [],
   "source": [
    "df['mutAC1'] = df['mutAC'] + '_' + df['Feature short label']\n",
    "df['mutAC1'] = df['mutAC1'].str.replace('_p.', '_')\n",
    "df['mutAC1'] = df['mutAC1'].str.replace('[', '-')\n",
    "df['mutAC1'] = df['mutAC1'].str.replace(']', '-')\n",
    "df['mutAC1'] = df['mutAC1'].str.replace(';', '_')"
   ]
  },
  {
   "cell_type": "code",
   "execution_count": 29,
   "metadata": {},
   "outputs": [
    {
     "data": {
      "text/plain": [
       "mutation with no effect(MI:2226)         13740\n",
       "mutation disrupting strength(MI:1128)    11793\n",
       "mutation disrupting(MI:0573)              5426\n",
       "mutation decreasing(MI:0119)              5152\n",
       "mutation decreasing strength(MI:1133)     3573\n",
       "mutation causing(MI:2227)                 1445\n",
       "mutation increasing(MI:0382)              1311\n",
       "mutation increasing strength(MI:1132)     1032\n",
       "mutation disrupting rate(MI:1129)          427\n",
       "mutation decreasing rate(MI:1130)          362\n",
       "mutation increasing rate(MI:1131)          151\n",
       "Name: Feature type, dtype: int64"
      ]
     },
     "execution_count": 29,
     "metadata": {},
     "output_type": "execute_result"
    }
   ],
   "source": [
    "df['Feature type'].value_counts()"
   ]
  },
  {
   "cell_type": "code",
   "execution_count": 30,
   "metadata": {},
   "outputs": [
    {
     "data": {
      "text/plain": [
       "0    17646\n",
       "2    13740\n",
       "1     9087\n",
       "3     2494\n",
       "4     1445\n",
       "Name: label, dtype: int64"
      ]
     },
     "execution_count": 30,
     "metadata": {},
     "output_type": "execute_result"
    }
   ],
   "source": [
    "df['label'].value_counts()"
   ]
  },
  {
   "cell_type": "code",
   "execution_count": 31,
   "metadata": {
    "scrolled": true
   },
   "outputs": [
    {
     "data": {
      "text/html": [
       "<div>\n",
       "<style scoped>\n",
       "    .dataframe tbody tr th:only-of-type {\n",
       "        vertical-align: middle;\n",
       "    }\n",
       "\n",
       "    .dataframe tbody tr th {\n",
       "        vertical-align: top;\n",
       "    }\n",
       "\n",
       "    .dataframe thead th {\n",
       "        text-align: right;\n",
       "    }\n",
       "</style>\n",
       "<table border=\"1\" class=\"dataframe\">\n",
       "  <thead>\n",
       "    <tr style=\"text-align: right;\">\n",
       "      <th></th>\n",
       "      <th>#Feature AC</th>\n",
       "      <th>Feature range(s)</th>\n",
       "      <th>Original sequence</th>\n",
       "      <th>Resulting sequence</th>\n",
       "      <th>Feature short label</th>\n",
       "      <th>Feature type</th>\n",
       "      <th>Feature annotation</th>\n",
       "      <th>Affected protein AC</th>\n",
       "      <th>Affected protein symbol</th>\n",
       "      <th>Affected protein full name</th>\n",
       "      <th>...</th>\n",
       "      <th>Interaction AC</th>\n",
       "      <th>partners</th>\n",
       "      <th>n_partner</th>\n",
       "      <th>mutAC</th>\n",
       "      <th>mut0</th>\n",
       "      <th>parAC</th>\n",
       "      <th>par0</th>\n",
       "      <th>mut1</th>\n",
       "      <th>label</th>\n",
       "      <th>mutAC1</th>\n",
       "    </tr>\n",
       "  </thead>\n",
       "  <tbody>\n",
       "    <tr>\n",
       "      <th>0</th>\n",
       "      <td>EBI-1002144</td>\n",
       "      <td>[90-90, 95-95]</td>\n",
       "      <td>[L, D]</td>\n",
       "      <td>[A, A]</td>\n",
       "      <td>P55957:p.[Leu90Ala;Asp95Ala]</td>\n",
       "      <td>mutation disrupting(MI:0573)</td>\n",
       "      <td></td>\n",
       "      <td>P55957</td>\n",
       "      <td>BID</td>\n",
       "      <td></td>\n",
       "      <td>...</td>\n",
       "      <td>EBI-1002129</td>\n",
       "      <td>[P55957, P10415]</td>\n",
       "      <td>2</td>\n",
       "      <td>P55957</td>\n",
       "      <td>MDCEVNNGSSLRDECITNLLVFGFLQSCSDNSFRRELDALGHELPV...</td>\n",
       "      <td>P10415</td>\n",
       "      <td>MAHAGRTGYDNREIVMKYIHYKLSQRGYEWDAGDVGAAPPGAAPAP...</td>\n",
       "      <td>MDCEVNNGSSLRDECITNLLVFGFLQSCSDNSFRRELDALGHELPV...</td>\n",
       "      <td>0</td>\n",
       "      <td>P55957_P55957:p.-Leu90Ala_Asp95Ala-</td>\n",
       "    </tr>\n",
       "    <tr>\n",
       "      <th>1</th>\n",
       "      <td>EBI-1002635</td>\n",
       "      <td>[90-90, 95-95]</td>\n",
       "      <td>[L, D]</td>\n",
       "      <td>[A, A]</td>\n",
       "      <td>P55957:p.[Leu90Ala;Asp95Ala]</td>\n",
       "      <td>mutation disrupting(MI:0573)</td>\n",
       "      <td></td>\n",
       "      <td>P55957</td>\n",
       "      <td>BID</td>\n",
       "      <td></td>\n",
       "      <td>...</td>\n",
       "      <td>EBI-1002627</td>\n",
       "      <td>[Q92843, P55957]</td>\n",
       "      <td>2</td>\n",
       "      <td>P55957</td>\n",
       "      <td>MDCEVNNGSSLRDECITNLLVFGFLQSCSDNSFRRELDALGHELPV...</td>\n",
       "      <td>Q92843</td>\n",
       "      <td>MATPASAPDTRALVADFVGYKLRQKGYVCGAGPGEGPAADPLHQAM...</td>\n",
       "      <td>MDCEVNNGSSLRDECITNLLVFGFLQSCSDNSFRRELDALGHELPV...</td>\n",
       "      <td>0</td>\n",
       "      <td>P55957_P55957:p.-Leu90Ala_Asp95Ala-</td>\n",
       "    </tr>\n",
       "    <tr>\n",
       "      <th>2</th>\n",
       "      <td>EBI-1003351</td>\n",
       "      <td>[90-90, 95-95]</td>\n",
       "      <td>[L, D]</td>\n",
       "      <td>[A, A]</td>\n",
       "      <td>P55957:p.[Leu90Ala;Asp95Ala]</td>\n",
       "      <td>mutation disrupting(MI:0573)</td>\n",
       "      <td></td>\n",
       "      <td>P55957</td>\n",
       "      <td>BID</td>\n",
       "      <td></td>\n",
       "      <td>...</td>\n",
       "      <td>EBI-1003344</td>\n",
       "      <td>[Q07817, P55957]</td>\n",
       "      <td>2</td>\n",
       "      <td>P55957</td>\n",
       "      <td>MDCEVNNGSSLRDECITNLLVFGFLQSCSDNSFRRELDALGHELPV...</td>\n",
       "      <td>Q07817</td>\n",
       "      <td>MSQSNRELVVDFLSYKLSQKGYSWSQFSDVEENRTEAPEGTESEME...</td>\n",
       "      <td>MDCEVNNGSSLRDECITNLLVFGFLQSCSDNSFRRELDALGHELPV...</td>\n",
       "      <td>0</td>\n",
       "      <td>P55957_P55957:p.-Leu90Ala_Asp95Ala-</td>\n",
       "    </tr>\n",
       "    <tr>\n",
       "      <th>3</th>\n",
       "      <td>EBI-1003469</td>\n",
       "      <td>[90-90, 95-95]</td>\n",
       "      <td>[L, D]</td>\n",
       "      <td>[A, A]</td>\n",
       "      <td>P55957:p.[Leu90Ala;Asp95Ala]</td>\n",
       "      <td>mutation disrupting(MI:0573)</td>\n",
       "      <td></td>\n",
       "      <td>P55957</td>\n",
       "      <td>BID</td>\n",
       "      <td></td>\n",
       "      <td>...</td>\n",
       "      <td>EBI-1003461</td>\n",
       "      <td>[Q07820, P55957]</td>\n",
       "      <td>2</td>\n",
       "      <td>P55957</td>\n",
       "      <td>MDCEVNNGSSLRDECITNLLVFGFLQSCSDNSFRRELDALGHELPV...</td>\n",
       "      <td>Q07820</td>\n",
       "      <td>MFGLKRNAVIGLNLYCGGAGLGAGSGGATRPGGRLLATEKEASARR...</td>\n",
       "      <td>MDCEVNNGSSLRDECITNLLVFGFLQSCSDNSFRRELDALGHELPV...</td>\n",
       "      <td>0</td>\n",
       "      <td>P55957_P55957:p.-Leu90Ala_Asp95Ala-</td>\n",
       "    </tr>\n",
       "    <tr>\n",
       "      <th>4</th>\n",
       "      <td>EBI-1003574</td>\n",
       "      <td>[90-90, 95-95]</td>\n",
       "      <td>[L, D]</td>\n",
       "      <td>[A, A]</td>\n",
       "      <td>P55957:p.[Leu90Ala;Asp95Ala]</td>\n",
       "      <td>mutation disrupting(MI:0573)</td>\n",
       "      <td></td>\n",
       "      <td>P55957</td>\n",
       "      <td>BID</td>\n",
       "      <td></td>\n",
       "      <td>...</td>\n",
       "      <td>EBI-1003566</td>\n",
       "      <td>[P55957, Q16548]</td>\n",
       "      <td>2</td>\n",
       "      <td>P55957</td>\n",
       "      <td>MDCEVNNGSSLRDECITNLLVFGFLQSCSDNSFRRELDALGHELPV...</td>\n",
       "      <td>Q16548</td>\n",
       "      <td>MTDCEFGYIYRLAQDYLQCVLQIPQPGSGPSKTSRVLQNVAFSVQK...</td>\n",
       "      <td>MDCEVNNGSSLRDECITNLLVFGFLQSCSDNSFRRELDALGHELPV...</td>\n",
       "      <td>0</td>\n",
       "      <td>P55957_P55957:p.-Leu90Ala_Asp95Ala-</td>\n",
       "    </tr>\n",
       "  </tbody>\n",
       "</table>\n",
       "<p>5 rows × 24 columns</p>\n",
       "</div>"
      ],
      "text/plain": [
       "   #Feature AC Feature range(s) Original sequence Resulting sequence  \\\n",
       "0  EBI-1002144   [90-90, 95-95]            [L, D]             [A, A]   \n",
       "1  EBI-1002635   [90-90, 95-95]            [L, D]             [A, A]   \n",
       "2  EBI-1003351   [90-90, 95-95]            [L, D]             [A, A]   \n",
       "3  EBI-1003469   [90-90, 95-95]            [L, D]             [A, A]   \n",
       "4  EBI-1003574   [90-90, 95-95]            [L, D]             [A, A]   \n",
       "\n",
       "            Feature short label                  Feature type  \\\n",
       "0  P55957:p.[Leu90Ala;Asp95Ala]  mutation disrupting(MI:0573)   \n",
       "1  P55957:p.[Leu90Ala;Asp95Ala]  mutation disrupting(MI:0573)   \n",
       "2  P55957:p.[Leu90Ala;Asp95Ala]  mutation disrupting(MI:0573)   \n",
       "3  P55957:p.[Leu90Ala;Asp95Ala]  mutation disrupting(MI:0573)   \n",
       "4  P55957:p.[Leu90Ala;Asp95Ala]  mutation disrupting(MI:0573)   \n",
       "\n",
       "  Feature annotation Affected protein AC Affected protein symbol  \\\n",
       "0                                 P55957                     BID   \n",
       "1                                 P55957                     BID   \n",
       "2                                 P55957                     BID   \n",
       "3                                 P55957                     BID   \n",
       "4                                 P55957                     BID   \n",
       "\n",
       "  Affected protein full name  ... Interaction AC          partners n_partner  \\\n",
       "0                             ...    EBI-1002129  [P55957, P10415]         2   \n",
       "1                             ...    EBI-1002627  [Q92843, P55957]         2   \n",
       "2                             ...    EBI-1003344  [Q07817, P55957]         2   \n",
       "3                             ...    EBI-1003461  [Q07820, P55957]         2   \n",
       "4                             ...    EBI-1003566  [P55957, Q16548]         2   \n",
       "\n",
       "    mutAC                                               mut0   parAC  \\\n",
       "0  P55957  MDCEVNNGSSLRDECITNLLVFGFLQSCSDNSFRRELDALGHELPV...  P10415   \n",
       "1  P55957  MDCEVNNGSSLRDECITNLLVFGFLQSCSDNSFRRELDALGHELPV...  Q92843   \n",
       "2  P55957  MDCEVNNGSSLRDECITNLLVFGFLQSCSDNSFRRELDALGHELPV...  Q07817   \n",
       "3  P55957  MDCEVNNGSSLRDECITNLLVFGFLQSCSDNSFRRELDALGHELPV...  Q07820   \n",
       "4  P55957  MDCEVNNGSSLRDECITNLLVFGFLQSCSDNSFRRELDALGHELPV...  Q16548   \n",
       "\n",
       "                                                par0  \\\n",
       "0  MAHAGRTGYDNREIVMKYIHYKLSQRGYEWDAGDVGAAPPGAAPAP...   \n",
       "1  MATPASAPDTRALVADFVGYKLRQKGYVCGAGPGEGPAADPLHQAM...   \n",
       "2  MSQSNRELVVDFLSYKLSQKGYSWSQFSDVEENRTEAPEGTESEME...   \n",
       "3  MFGLKRNAVIGLNLYCGGAGLGAGSGGATRPGGRLLATEKEASARR...   \n",
       "4  MTDCEFGYIYRLAQDYLQCVLQIPQPGSGPSKTSRVLQNVAFSVQK...   \n",
       "\n",
       "                                                mut1 label  \\\n",
       "0  MDCEVNNGSSLRDECITNLLVFGFLQSCSDNSFRRELDALGHELPV...     0   \n",
       "1  MDCEVNNGSSLRDECITNLLVFGFLQSCSDNSFRRELDALGHELPV...     0   \n",
       "2  MDCEVNNGSSLRDECITNLLVFGFLQSCSDNSFRRELDALGHELPV...     0   \n",
       "3  MDCEVNNGSSLRDECITNLLVFGFLQSCSDNSFRRELDALGHELPV...     0   \n",
       "4  MDCEVNNGSSLRDECITNLLVFGFLQSCSDNSFRRELDALGHELPV...     0   \n",
       "\n",
       "                                mutAC1  \n",
       "0  P55957_P55957:p.-Leu90Ala_Asp95Ala-  \n",
       "1  P55957_P55957:p.-Leu90Ala_Asp95Ala-  \n",
       "2  P55957_P55957:p.-Leu90Ala_Asp95Ala-  \n",
       "3  P55957_P55957:p.-Leu90Ala_Asp95Ala-  \n",
       "4  P55957_P55957:p.-Leu90Ala_Asp95Ala-  \n",
       "\n",
       "[5 rows x 24 columns]"
      ]
     },
     "execution_count": 31,
     "metadata": {},
     "output_type": "execute_result"
    }
   ],
   "source": [
    "df.head()"
   ]
  },
  {
   "cell_type": "markdown",
   "metadata": {},
   "source": [
    "## delete items with same participants (for unknown mutated or wildtype in the interaction)"
   ]
  },
  {
   "cell_type": "code",
   "execution_count": 32,
   "metadata": {},
   "outputs": [
    {
     "name": "stdout",
     "output_type": "stream",
     "text": [
      "after drop same participants items: (40871, 24)\n"
     ]
    }
   ],
   "source": [
    "df = df[~(df['mutAC'] == df['parAC'])]\n",
    "print('after drop same participants items: {}'.format(df.shape))"
   ]
  },
  {
   "cell_type": "markdown",
   "metadata": {},
   "source": [
    "## drop unregular aa"
   ]
  },
  {
   "cell_type": "code",
   "execution_count": 33,
   "metadata": {},
   "outputs": [
    {
     "name": "stdout",
     "output_type": "stream",
     "text": [
      "after drop unregular aa: (40830, 24)\n"
     ]
    }
   ],
   "source": [
    "df = df[~(df['mut0'].str.contains('B|J|O|U|X|Z'))]\n",
    "df = df[~(df['mut1'].str.contains('B|J|O|U|X|Z'))]\n",
    "df = df[~(df['par0'].str.contains('B|J|O|U|X|Z'))]\n",
    "print('after drop unregular aa: {}'.format(df.shape))"
   ]
  },
  {
   "cell_type": "markdown",
   "metadata": {},
   "source": [
    "## step for add PSSM(full size) into table"
   ]
  },
  {
   "cell_type": "code",
   "execution_count": 34,
   "metadata": {},
   "outputs": [],
   "source": [
    "# def load_file(file_path):\n",
    "#     try:\n",
    "#         with open(file_path) as f_in:\n",
    "#             lines = f_in.readlines()\n",
    "#         return lines\n",
    "#     except IOError as err:\n",
    "#         print('Can not open file: ' + file_path)\n",
    "#         return 'nan'\n",
    "\n",
    "# def parse_pssm(filelines, winsize=51, pssm_root=None, mutated_pos=None, most1024=False):\n",
    "# #     pssm_root = '/lustre/home/acct-bmelgn/bmelgn-2/QianWei/app/psipred_file/psipred/BLAST+/v20200727/pssm'\n",
    "#     filelines = load_file(os.path.join(pssm_root, filelines + '.pssm'))\n",
    "#     if filelines == 'nan':\n",
    "#         return 'nan'\n",
    "#     pssmvalue = np.array([])\n",
    "#     for line in filelines:\n",
    "#         if len(line.split()) == 44:\n",
    "#             pssmvalue = np.r_[pssmvalue, np.array(line.split()[2:22]).astype(float)]\n",
    "#     pssmvalue = np.reshape(pssmvalue, (-1, 20))\n",
    "#     if pssmvalue.shape[0] < 1024:\n",
    "#         pssmvalue = np.r_[pssmvalue, np.zeros([1024 - pssmvalue.shape[0], 20])]\n",
    "#     if most1024:\n",
    "#         if pssmvalue.shape[0] > 1024:\n",
    "#             pssmvalue = pssmvalue[:1024, :]\n",
    "#     if mutated_pos != None:\n",
    "#         pssmvalue = np.r_[np.zeros([25, 20]), pssmvalue, np.zeros([25, 20])]\n",
    "#         pssmvalue = pssmvalue[mutated_pos - 1: mutated_pos + 50, :]\n",
    "    \n",
    "#     return pssmvalue"
   ]
  },
  {
   "cell_type": "markdown",
   "metadata": {},
   "source": [
    "## pssm_root saved PPSM files after psiblast batch works"
   ]
  },
  {
   "cell_type": "code",
   "execution_count": 35,
   "metadata": {},
   "outputs": [],
   "source": [
    "# # please change it into your customized directory\n",
    "# mut_pssm_root = '/lustre/home/acct-bmelgn/bmelgn-2/QianWei/app/psipred_file/psipred/BLAST+/v20200727/pssm'\n",
    "# ori_pssm_root = '/lustre/home/acct-bmelgn/bmelgn-2/QianWei/app/psipred_file/psipred/BLAST+/v20200731/pssm'"
   ]
  },
  {
   "cell_type": "code",
   "execution_count": 36,
   "metadata": {},
   "outputs": [],
   "source": [
    "# pssm_par0 = [parse_pssm(x, pssm_root=ori_pssm_root) for x in df['parAC']]\n",
    "# # pssm 51 window only available to single mutation items\n",
    "# df['pssm_par0'] = pssm_par0\n",
    "# df = df[~(df['pssm_par0'] == 'nan')]\n",
    "# print('after pssm_par0: {}'.format(df.shape))"
   ]
  },
  {
   "cell_type": "markdown",
   "metadata": {},
   "source": [
    "## select only single-point items to support slide window strategy (no need for length strict of mutated protein)"
   ]
  },
  {
   "cell_type": "code",
   "execution_count": 37,
   "metadata": {},
   "outputs": [
    {
     "name": "stdout",
     "output_type": "stream",
     "text": [
      "df_copy shape: (40830, 24)\n",
      "after drop multi-point mutation items: (37211, 24)\n"
     ]
    }
   ],
   "source": [
    "df_s = df.copy()\n",
    "print('df_copy shape: {}'.format(df_s.shape))\n",
    "\n",
    "df_s = df_s[~(df_s['Feature range(s)'].str.len() > 1)]\n",
    "print('after drop multi-point mutation items: {}'.format(df_s.shape))"
   ]
  },
  {
   "cell_type": "code",
   "execution_count": 38,
   "metadata": {},
   "outputs": [],
   "source": [
    "mut0_win = '0' * 51 + df_s['mut0'] + '0' * 51\n",
    "mut1_win = '0' * 51 + df_s['mut1'] + '0' * 51\n",
    "mut0_51 = []\n",
    "mut1_51 = []\n",
    "df_s['mut0_pad'] = mut0_win\n",
    "df_s['mut1_pad'] = mut1_win\n",
    "\n",
    "for i in df_s.index:\n",
    "    tmp1 = df_s.loc[i, 'mut0_pad']\n",
    "    tmp2 = df_s.loc[i, 'mut1_pad']\n",
    "    pos = int(df_s.loc[i, 'Feature range(s)'][0].split('-')[0])\n",
    "    mut0_51.append(tmp1[(pos + 25):(pos + 76)])\n",
    "    mut1_51.append(tmp2[(pos + 25):(pos + 76)])\n",
    "\n",
    "df_s['mut0_51'] = mut0_51\n",
    "df_s['mut1_51'] = mut1_51\n",
    "\n",
    "del df_s['mut0_pad']\n",
    "del df_s['mut1_pad']"
   ]
  },
  {
   "cell_type": "code",
   "execution_count": 39,
   "metadata": {},
   "outputs": [],
   "source": [
    "mut0_win = '0' * 1025 + df_s['mut0'] + '0' * 1025\n",
    "mut1_win = '0' * 1025 + df_s['mut1'] + '0' * 1025\n",
    "mut0_1025 = []\n",
    "mut1_1025 = []\n",
    "df_s['mut0_pad'] = mut0_win\n",
    "df_s['mut1_pad'] = mut1_win\n",
    "\n",
    "for i in df_s.index:\n",
    "    tmp1 = df_s.loc[i, 'mut0_pad']\n",
    "    tmp2 = df_s.loc[i, 'mut1_pad']\n",
    "    pos = int(df_s.loc[i, 'Feature range(s)'][0].split('-')[0])\n",
    "    mut0_1025.append(tmp1[(pos + 512):(pos + 1537)])\n",
    "    mut1_1025.append(tmp2[(pos + 512):(pos + 1537)])\n",
    "\n",
    "df_s['mut0_1025'] = mut0_1025\n",
    "df_s['mut1_1025'] = mut1_1025\n",
    "\n",
    "del df_s['mut0_pad']\n",
    "del df_s['mut1_pad']"
   ]
  },
  {
   "cell_type": "code",
   "execution_count": null,
   "metadata": {},
   "outputs": [],
   "source": []
  },
  {
   "cell_type": "code",
   "execution_count": 40,
   "metadata": {},
   "outputs": [],
   "source": [
    "# pssm_win = [parse_pssm(df_s.loc[i, 'mutAC1'], pssm_root=mut_pssm_root, mutated_pos=int(df_s.loc[i, 'Feature range(s)'][0].split('-')[0])) for i in df_s.index]\n",
    "# # pssm 51 window only available to single mutation items\n",
    "# df_s['pssm_win_mut1'] = pssm_win\n",
    "# df_s = df_s[~(df_s['pssm_win_mut1'] == 'nan')]\n",
    "# print('after pssm_win_mut1: {}'.format(df_s.shape))\n",
    "\n",
    "# pssm_win = [parse_pssm(df_s.loc[i, 'mutAC'], pssm_root=ori_pssm_root, mutated_pos=int(df_s.loc[i, 'Feature range(s)'][0].split('-')[0])) for i in df_s.index]\n",
    "# # pssm 51 window only available to single mutation items\n",
    "# df_s['pssm_win_mut0'] = pssm_win\n",
    "# df_s = df_s[~(df_s['pssm_win_mut0'] == 'nan')]\n",
    "# print('after pssm_win_mut0: {}'.format(df_s.shape))"
   ]
  },
  {
   "cell_type": "code",
   "execution_count": 41,
   "metadata": {},
   "outputs": [
    {
     "name": "stdout",
     "output_type": "stream",
     "text": [
      "after drop duplicates: (25613, 28)\n",
      "after drop conflicts: (23724, 28)\n"
     ]
    }
   ],
   "source": [
    "# drop duplicates and coflicts\n",
    "df_s = df_s.drop_duplicates(['mut0_51', 'mut0_1025', 'mut1_1025', 'par0', 'mut1_51', 'label'], keep='first')\n",
    "print('after drop duplicates: {}'.format(df_s.shape))\n",
    "\n",
    "df_s = df_s.drop_duplicates(['mut0_51', 'par0', 'mut1_51', 'mut0_1025', 'mut1_1025'], keep=False)\n",
    "print('after drop conflicts: {}'.format(df_s.shape))"
   ]
  },
  {
   "cell_type": "code",
   "execution_count": 42,
   "metadata": {},
   "outputs": [],
   "source": [
    "df_s.to_pickle('data/processed_mutations.dataset')"
   ]
  },
  {
   "cell_type": "code",
   "execution_count": 43,
   "metadata": {},
   "outputs": [
    {
     "data": {
      "text/html": [
       "<div>\n",
       "<style scoped>\n",
       "    .dataframe tbody tr th:only-of-type {\n",
       "        vertical-align: middle;\n",
       "    }\n",
       "\n",
       "    .dataframe tbody tr th {\n",
       "        vertical-align: top;\n",
       "    }\n",
       "\n",
       "    .dataframe thead th {\n",
       "        text-align: right;\n",
       "    }\n",
       "</style>\n",
       "<table border=\"1\" class=\"dataframe\">\n",
       "  <thead>\n",
       "    <tr style=\"text-align: right;\">\n",
       "      <th></th>\n",
       "      <th>#Feature AC</th>\n",
       "      <th>Feature range(s)</th>\n",
       "      <th>Original sequence</th>\n",
       "      <th>Resulting sequence</th>\n",
       "      <th>Feature short label</th>\n",
       "      <th>Feature type</th>\n",
       "      <th>Feature annotation</th>\n",
       "      <th>Affected protein AC</th>\n",
       "      <th>Affected protein symbol</th>\n",
       "      <th>Affected protein full name</th>\n",
       "      <th>...</th>\n",
       "      <th>mut0</th>\n",
       "      <th>parAC</th>\n",
       "      <th>par0</th>\n",
       "      <th>mut1</th>\n",
       "      <th>label</th>\n",
       "      <th>mutAC1</th>\n",
       "      <th>mut0_51</th>\n",
       "      <th>mut1_51</th>\n",
       "      <th>mut0_1025</th>\n",
       "      <th>mut1_1025</th>\n",
       "    </tr>\n",
       "  </thead>\n",
       "  <tbody>\n",
       "    <tr>\n",
       "      <th>5</th>\n",
       "      <td>EBI-10039489</td>\n",
       "      <td>[81-81]</td>\n",
       "      <td>[V]</td>\n",
       "      <td>[E]</td>\n",
       "      <td>P28795:p.Val81Glu</td>\n",
       "      <td>mutation disrupting(MI:0573)</td>\n",
       "      <td></td>\n",
       "      <td>P28795</td>\n",
       "      <td>PEX3</td>\n",
       "      <td></td>\n",
       "      <td>...</td>\n",
       "      <td>MAPNQRSRSLLQRHRGKVLISLTGIAALFTTGSVVVFFVKRWLYKQ...</td>\n",
       "      <td>Q03694</td>\n",
       "      <td>MVLSRGETKKNSVRLTAKQEKKPQSTFQTLKQSLKLSNNKKLKQDS...</td>\n",
       "      <td>MAPNQRSRSLLQRHRGKVLISLTGIAALFTTGSVVVFFVKRWLYKQ...</td>\n",
       "      <td>0</td>\n",
       "      <td>P28795_P28795:p.Val81Glu</td>\n",
       "      <td>IKEQIKRRFEQTQEDSLYTIYELLPVWRMVLNENDLNLDSIVTQLK...</td>\n",
       "      <td>IKEQIKRRFEQTQEDSLYTIYELLPEWRMVLNENDLNLDSIVTQLK...</td>\n",
       "      <td>0000000000000000000000000000000000000000000000...</td>\n",
       "      <td>0000000000000000000000000000000000000000000000...</td>\n",
       "    </tr>\n",
       "    <tr>\n",
       "      <th>6</th>\n",
       "      <td>EBI-10039495</td>\n",
       "      <td>[188-188]</td>\n",
       "      <td>[N]</td>\n",
       "      <td>[I]</td>\n",
       "      <td>P28795:p.Asn188Ile</td>\n",
       "      <td>mutation decreasing(MI:0119)</td>\n",
       "      <td></td>\n",
       "      <td>P28795</td>\n",
       "      <td>PEX3</td>\n",
       "      <td></td>\n",
       "      <td>...</td>\n",
       "      <td>MAPNQRSRSLLQRHRGKVLISLTGIAALFTTGSVVVFFVKRWLYKQ...</td>\n",
       "      <td>Q03694</td>\n",
       "      <td>MVLSRGETKKNSVRLTAKQEKKPQSTFQTLKQSLKLSNNKKLKQDS...</td>\n",
       "      <td>MAPNQRSRSLLQRHRGKVLISLTGIAALFTTGSVVVFFVKRWLYKQ...</td>\n",
       "      <td>1</td>\n",
       "      <td>P28795_P28795:p.Asn188Ile</td>\n",
       "      <td>NEYLDSAIKLTMQQENCNKLQNRFYNWVTSWWSDPEDKADDAMVMA...</td>\n",
       "      <td>NEYLDSAIKLTMQQENCNKLQNRFYIWVTSWWSDPEDKADDAMVMA...</td>\n",
       "      <td>0000000000000000000000000000000000000000000000...</td>\n",
       "      <td>0000000000000000000000000000000000000000000000...</td>\n",
       "    </tr>\n",
       "    <tr>\n",
       "      <th>10</th>\n",
       "      <td>EBI-10039873</td>\n",
       "      <td>[146-146]</td>\n",
       "      <td>[K]</td>\n",
       "      <td>[R]</td>\n",
       "      <td>O95863:p.Lys146Arg</td>\n",
       "      <td>mutation decreasing strength(MI:1133)</td>\n",
       "      <td></td>\n",
       "      <td>O95863</td>\n",
       "      <td>SNAI1</td>\n",
       "      <td></td>\n",
       "      <td>...</td>\n",
       "      <td>MPRSFLVRKPSDPNRKPNYSELQDSNPEFTFQQPYDQAHLLAAIPP...</td>\n",
       "      <td>Q09472</td>\n",
       "      <td>MAENVVEPGPPSAKRPKLSSPALSASASDGTDFGSLFDLEHDLPDE...</td>\n",
       "      <td>MPRSFLVRKPSDPNRKPNYSELQDSNPEFTFQQPYDQAHLLAAIPP...</td>\n",
       "      <td>1</td>\n",
       "      <td>O95863_O95863:p.Lys146Arg</td>\n",
       "      <td>LEAEAYAAFPGLGQVPKQLAQLSEAKDLQARKAFNCKYCNKEYLSL...</td>\n",
       "      <td>LEAEAYAAFPGLGQVPKQLAQLSEARDLQARKAFNCKYCNKEYLSL...</td>\n",
       "      <td>0000000000000000000000000000000000000000000000...</td>\n",
       "      <td>0000000000000000000000000000000000000000000000...</td>\n",
       "    </tr>\n",
       "    <tr>\n",
       "      <th>11</th>\n",
       "      <td>EBI-10039883</td>\n",
       "      <td>[187-187]</td>\n",
       "      <td>[K]</td>\n",
       "      <td>[R]</td>\n",
       "      <td>O95863:p.Lys187Arg</td>\n",
       "      <td>mutation decreasing strength(MI:1133)</td>\n",
       "      <td></td>\n",
       "      <td>O95863</td>\n",
       "      <td>SNAI1</td>\n",
       "      <td></td>\n",
       "      <td>...</td>\n",
       "      <td>MPRSFLVRKPSDPNRKPNYSELQDSNPEFTFQQPYDQAHLLAAIPP...</td>\n",
       "      <td>Q09472</td>\n",
       "      <td>MAENVVEPGPPSAKRPKLSSPALSASASDGTDFGSLFDLEHDLPDE...</td>\n",
       "      <td>MPRSFLVRKPSDPNRKPNYSELQDSNPEFTFQQPYDQAHLLAAIPP...</td>\n",
       "      <td>1</td>\n",
       "      <td>O95863_O95863:p.Lys187Arg</td>\n",
       "      <td>EYLSLGALKMHIRSHTLPCVCGTCGKAFSRPWLLQGHVRTHTGEKP...</td>\n",
       "      <td>EYLSLGALKMHIRSHTLPCVCGTCGRAFSRPWLLQGHVRTHTGEKP...</td>\n",
       "      <td>0000000000000000000000000000000000000000000000...</td>\n",
       "      <td>0000000000000000000000000000000000000000000000...</td>\n",
       "    </tr>\n",
       "    <tr>\n",
       "      <th>15</th>\n",
       "      <td>EBI-10041181</td>\n",
       "      <td>[368-368]</td>\n",
       "      <td>[W]</td>\n",
       "      <td>[A]</td>\n",
       "      <td>Q9UKV5:p.Trp368Ala</td>\n",
       "      <td>mutation decreasing(MI:0119)</td>\n",
       "      <td></td>\n",
       "      <td>Q9UKV5</td>\n",
       "      <td>AMFR</td>\n",
       "      <td></td>\n",
       "      <td>...</td>\n",
       "      <td>MPLLFLERFPWPSLRTYTGLSGLALLGTIISAYRALSQPEAGPGEP...</td>\n",
       "      <td>P60604</td>\n",
       "      <td>MAGTALKRLMAEYKQLTLNPPEGIVAGPMNEENFFEWEALIMGPED...</td>\n",
       "      <td>MPLLFLERFPWPSLRTYTGLSGLALLGTIISAYRALSQPEAGPGEP...</td>\n",
       "      <td>1</td>\n",
       "      <td>Q9UKV5_Q9UKV5:p.Trp368Ala</td>\n",
       "      <td>ICWDSMQAARKLPCGHLFHNSCLRSWLEQDTSCPTCRMSLNIADNN...</td>\n",
       "      <td>ICWDSMQAARKLPCGHLFHNSCLRSALEQDTSCPTCRMSLNIADNN...</td>\n",
       "      <td>0000000000000000000000000000000000000000000000...</td>\n",
       "      <td>0000000000000000000000000000000000000000000000...</td>\n",
       "    </tr>\n",
       "  </tbody>\n",
       "</table>\n",
       "<p>5 rows × 28 columns</p>\n",
       "</div>"
      ],
      "text/plain": [
       "     #Feature AC Feature range(s) Original sequence Resulting sequence  \\\n",
       "5   EBI-10039489          [81-81]               [V]                [E]   \n",
       "6   EBI-10039495        [188-188]               [N]                [I]   \n",
       "10  EBI-10039873        [146-146]               [K]                [R]   \n",
       "11  EBI-10039883        [187-187]               [K]                [R]   \n",
       "15  EBI-10041181        [368-368]               [W]                [A]   \n",
       "\n",
       "   Feature short label                           Feature type  \\\n",
       "5    P28795:p.Val81Glu           mutation disrupting(MI:0573)   \n",
       "6   P28795:p.Asn188Ile           mutation decreasing(MI:0119)   \n",
       "10  O95863:p.Lys146Arg  mutation decreasing strength(MI:1133)   \n",
       "11  O95863:p.Lys187Arg  mutation decreasing strength(MI:1133)   \n",
       "15  Q9UKV5:p.Trp368Ala           mutation decreasing(MI:0119)   \n",
       "\n",
       "   Feature annotation Affected protein AC Affected protein symbol  \\\n",
       "5                                  P28795                    PEX3   \n",
       "6                                  P28795                    PEX3   \n",
       "10                                 O95863                   SNAI1   \n",
       "11                                 O95863                   SNAI1   \n",
       "15                                 Q9UKV5                    AMFR   \n",
       "\n",
       "   Affected protein full name  ...  \\\n",
       "5                              ...   \n",
       "6                              ...   \n",
       "10                             ...   \n",
       "11                             ...   \n",
       "15                             ...   \n",
       "\n",
       "                                                 mut0   parAC  \\\n",
       "5   MAPNQRSRSLLQRHRGKVLISLTGIAALFTTGSVVVFFVKRWLYKQ...  Q03694   \n",
       "6   MAPNQRSRSLLQRHRGKVLISLTGIAALFTTGSVVVFFVKRWLYKQ...  Q03694   \n",
       "10  MPRSFLVRKPSDPNRKPNYSELQDSNPEFTFQQPYDQAHLLAAIPP...  Q09472   \n",
       "11  MPRSFLVRKPSDPNRKPNYSELQDSNPEFTFQQPYDQAHLLAAIPP...  Q09472   \n",
       "15  MPLLFLERFPWPSLRTYTGLSGLALLGTIISAYRALSQPEAGPGEP...  P60604   \n",
       "\n",
       "                                                 par0  \\\n",
       "5   MVLSRGETKKNSVRLTAKQEKKPQSTFQTLKQSLKLSNNKKLKQDS...   \n",
       "6   MVLSRGETKKNSVRLTAKQEKKPQSTFQTLKQSLKLSNNKKLKQDS...   \n",
       "10  MAENVVEPGPPSAKRPKLSSPALSASASDGTDFGSLFDLEHDLPDE...   \n",
       "11  MAENVVEPGPPSAKRPKLSSPALSASASDGTDFGSLFDLEHDLPDE...   \n",
       "15  MAGTALKRLMAEYKQLTLNPPEGIVAGPMNEENFFEWEALIMGPED...   \n",
       "\n",
       "                                                 mut1 label  \\\n",
       "5   MAPNQRSRSLLQRHRGKVLISLTGIAALFTTGSVVVFFVKRWLYKQ...     0   \n",
       "6   MAPNQRSRSLLQRHRGKVLISLTGIAALFTTGSVVVFFVKRWLYKQ...     1   \n",
       "10  MPRSFLVRKPSDPNRKPNYSELQDSNPEFTFQQPYDQAHLLAAIPP...     1   \n",
       "11  MPRSFLVRKPSDPNRKPNYSELQDSNPEFTFQQPYDQAHLLAAIPP...     1   \n",
       "15  MPLLFLERFPWPSLRTYTGLSGLALLGTIISAYRALSQPEAGPGEP...     1   \n",
       "\n",
       "                       mutAC1  \\\n",
       "5    P28795_P28795:p.Val81Glu   \n",
       "6   P28795_P28795:p.Asn188Ile   \n",
       "10  O95863_O95863:p.Lys146Arg   \n",
       "11  O95863_O95863:p.Lys187Arg   \n",
       "15  Q9UKV5_Q9UKV5:p.Trp368Ala   \n",
       "\n",
       "                                              mut0_51  \\\n",
       "5   IKEQIKRRFEQTQEDSLYTIYELLPVWRMVLNENDLNLDSIVTQLK...   \n",
       "6   NEYLDSAIKLTMQQENCNKLQNRFYNWVTSWWSDPEDKADDAMVMA...   \n",
       "10  LEAEAYAAFPGLGQVPKQLAQLSEAKDLQARKAFNCKYCNKEYLSL...   \n",
       "11  EYLSLGALKMHIRSHTLPCVCGTCGKAFSRPWLLQGHVRTHTGEKP...   \n",
       "15  ICWDSMQAARKLPCGHLFHNSCLRSWLEQDTSCPTCRMSLNIADNN...   \n",
       "\n",
       "                                              mut1_51  \\\n",
       "5   IKEQIKRRFEQTQEDSLYTIYELLPEWRMVLNENDLNLDSIVTQLK...   \n",
       "6   NEYLDSAIKLTMQQENCNKLQNRFYIWVTSWWSDPEDKADDAMVMA...   \n",
       "10  LEAEAYAAFPGLGQVPKQLAQLSEARDLQARKAFNCKYCNKEYLSL...   \n",
       "11  EYLSLGALKMHIRSHTLPCVCGTCGRAFSRPWLLQGHVRTHTGEKP...   \n",
       "15  ICWDSMQAARKLPCGHLFHNSCLRSALEQDTSCPTCRMSLNIADNN...   \n",
       "\n",
       "                                            mut0_1025  \\\n",
       "5   0000000000000000000000000000000000000000000000...   \n",
       "6   0000000000000000000000000000000000000000000000...   \n",
       "10  0000000000000000000000000000000000000000000000...   \n",
       "11  0000000000000000000000000000000000000000000000...   \n",
       "15  0000000000000000000000000000000000000000000000...   \n",
       "\n",
       "                                            mut1_1025  \n",
       "5   0000000000000000000000000000000000000000000000...  \n",
       "6   0000000000000000000000000000000000000000000000...  \n",
       "10  0000000000000000000000000000000000000000000000...  \n",
       "11  0000000000000000000000000000000000000000000000...  \n",
       "15  0000000000000000000000000000000000000000000000...  \n",
       "\n",
       "[5 rows x 28 columns]"
      ]
     },
     "execution_count": 43,
     "metadata": {},
     "output_type": "execute_result"
    }
   ],
   "source": [
    "df_s.head()"
   ]
  },
  {
   "cell_type": "code",
   "execution_count": 44,
   "metadata": {},
   "outputs": [
    {
     "name": "stdout",
     "output_type": "stream",
     "text": [
      "0-200       2716\n",
      "200-400     5484\n",
      "400-600     5592\n",
      "600-800     3548\n",
      "800-1000    2017\n",
      "1000+       4367\n",
      "Name: length_range, dtype: int64\n"
     ]
    }
   ],
   "source": [
    "import pandas as pd\n",
    "\n",
    "# 假设 df_s 是你的 DataFrame，'mut0' 是包含不同长度字符串的列\n",
    "# 创建一个新列 'length' 包含 'mut0' 列中每个字符串的长度\n",
    "df_s['length'] = df_s['mut0'].apply(len)\n",
    "\n",
    "# 定义区间\n",
    "bins = [0, 200, 400, 600, 800, 1000, float('inf')]\n",
    "\n",
    "# 使用 cut 函数将长度划分到不同的区间\n",
    "df_s['length_range'] = pd.cut(df_s['length'], bins=bins, labels=['0-200', '200-400', '400-600', '600-800', '800-1000', '1000+'])\n",
    "\n",
    "# 统计每个区间的数量\n",
    "length_distribution = df_s['length_range'].value_counts().sort_index()\n",
    "\n",
    "print(length_distribution)\n"
   ]
  },
  {
   "cell_type": "code",
   "execution_count": 54,
   "metadata": {},
   "outputs": [
    {
     "data": {
      "text/html": [
       "<div>\n",
       "<style scoped>\n",
       "    .dataframe tbody tr th:only-of-type {\n",
       "        vertical-align: middle;\n",
       "    }\n",
       "\n",
       "    .dataframe tbody tr th {\n",
       "        vertical-align: top;\n",
       "    }\n",
       "\n",
       "    .dataframe thead th {\n",
       "        text-align: right;\n",
       "    }\n",
       "</style>\n",
       "<table border=\"1\" class=\"dataframe\">\n",
       "  <thead>\n",
       "    <tr style=\"text-align: right;\">\n",
       "      <th></th>\n",
       "      <th>#Feature AC</th>\n",
       "      <th>Feature range(s)</th>\n",
       "      <th>Original sequence</th>\n",
       "      <th>Resulting sequence</th>\n",
       "      <th>Feature short label</th>\n",
       "      <th>Feature type</th>\n",
       "      <th>Feature annotation</th>\n",
       "      <th>Affected protein AC</th>\n",
       "      <th>Affected protein symbol</th>\n",
       "      <th>Affected protein full name</th>\n",
       "      <th>...</th>\n",
       "      <th>par0</th>\n",
       "      <th>mut1</th>\n",
       "      <th>label</th>\n",
       "      <th>mutAC1</th>\n",
       "      <th>mut0_51</th>\n",
       "      <th>mut1_51</th>\n",
       "      <th>mut0_1025</th>\n",
       "      <th>mut1_1025</th>\n",
       "      <th>length</th>\n",
       "      <th>length_range</th>\n",
       "    </tr>\n",
       "  </thead>\n",
       "  <tbody>\n",
       "    <tr>\n",
       "      <th>118</th>\n",
       "      <td>EBI-10091531</td>\n",
       "      <td>[690-690]</td>\n",
       "      <td>[R]</td>\n",
       "      <td>[C]</td>\n",
       "      <td>P42166:p.Arg690Cys</td>\n",
       "      <td>mutation decreasing(MI:0119)</td>\n",
       "      <td>MI:0612 (comment): variant in CMD1T (Cardiomyo...</td>\n",
       "      <td>P42166</td>\n",
       "      <td>TMPO</td>\n",
       "      <td></td>\n",
       "      <td>...</td>\n",
       "      <td>METPSQRRATRSGAQASSTPLSPTRITRLQEKEDLQELNDRLAVYI...</td>\n",
       "      <td>MPEFLEDPSVLTKDKLKSELVANNVTLPAGEQRKDVYVQLYLQHLT...</td>\n",
       "      <td>1</td>\n",
       "      <td>P42166_P42166:p.Arg690Cys</td>\n",
       "      <td>KNKLASTPFKGGTLFGGEVCKVIKKRGNKH0000000000000000...</td>\n",
       "      <td>KNKLASTPFKGGTLFGGEVCKVIKKCGNKH0000000000000000...</td>\n",
       "      <td>NDSDRYSDNEEGKKKEHKKVKSTRDIVPFSELGTTPSGGGFFQGIS...</td>\n",
       "      <td>NDSDRYSDNEEGKKKEHKKVKSTRDIVPFSELGTTPSGGGFFQGIS...</td>\n",
       "      <td>694</td>\n",
       "      <td>600-800</td>\n",
       "    </tr>\n",
       "  </tbody>\n",
       "</table>\n",
       "<p>1 rows × 30 columns</p>\n",
       "</div>"
      ],
      "text/plain": [
       "      #Feature AC Feature range(s) Original sequence Resulting sequence  \\\n",
       "118  EBI-10091531        [690-690]               [R]                [C]   \n",
       "\n",
       "    Feature short label                  Feature type  \\\n",
       "118  P42166:p.Arg690Cys  mutation decreasing(MI:0119)   \n",
       "\n",
       "                                    Feature annotation Affected protein AC  \\\n",
       "118  MI:0612 (comment): variant in CMD1T (Cardiomyo...              P42166   \n",
       "\n",
       "    Affected protein symbol Affected protein full name  ...  \\\n",
       "118                    TMPO                             ...   \n",
       "\n",
       "                                                  par0  \\\n",
       "118  METPSQRRATRSGAQASSTPLSPTRITRLQEKEDLQELNDRLAVYI...   \n",
       "\n",
       "                                                  mut1 label  \\\n",
       "118  MPEFLEDPSVLTKDKLKSELVANNVTLPAGEQRKDVYVQLYLQHLT...     1   \n",
       "\n",
       "                        mutAC1  \\\n",
       "118  P42166_P42166:p.Arg690Cys   \n",
       "\n",
       "                                               mut0_51  \\\n",
       "118  KNKLASTPFKGGTLFGGEVCKVIKKRGNKH0000000000000000...   \n",
       "\n",
       "                                               mut1_51  \\\n",
       "118  KNKLASTPFKGGTLFGGEVCKVIKKCGNKH0000000000000000...   \n",
       "\n",
       "                                             mut0_1025  \\\n",
       "118  NDSDRYSDNEEGKKKEHKKVKSTRDIVPFSELGTTPSGGGFFQGIS...   \n",
       "\n",
       "                                             mut1_1025 length length_range  \n",
       "118  NDSDRYSDNEEGKKKEHKKVKSTRDIVPFSELGTTPSGGGFFQGIS...    694      600-800  \n",
       "\n",
       "[1 rows x 30 columns]"
      ]
     },
     "execution_count": 54,
     "metadata": {},
     "output_type": "execute_result"
    }
   ],
   "source": [
    "df_s[df_s['Affected protein AC'] == 'P42166']"
   ]
  },
  {
   "cell_type": "code",
   "execution_count": null,
   "metadata": {},
   "outputs": [],
   "source": []
  }
 ],
 "metadata": {
  "kernelspec": {
   "display_name": "dnabert",
   "language": "python",
   "name": "python3"
  },
  "language_info": {
   "codemirror_mode": {
    "name": "ipython",
    "version": 3
   },
   "file_extension": ".py",
   "mimetype": "text/x-python",
   "name": "python",
   "nbconvert_exporter": "python",
   "pygments_lexer": "ipython3",
   "version": "3.6.15"
  }
 },
 "nbformat": 4,
 "nbformat_minor": 4
}
